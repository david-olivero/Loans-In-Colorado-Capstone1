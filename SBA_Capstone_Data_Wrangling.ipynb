{
 "cells": [
  {
   "cell_type": "markdown",
   "metadata": {},
   "source": [
    "## SBA Loan Performance in Colorado##\n",
    "\n",
    "The purpose of this notebook is to compile a dataset that will help us answer the questions:  \n",
    "\n",
    "**1) What are the performance of SBA (small business administration) loans in Colorado in recent years?**  \n",
    "\n",
    "**2) What are the factors that impact default rates of these loans?**\n",
    "\n",
    "and ultimately,  \n",
    "\n",
    "**3) Can we build a model that will predict if a SBA loan is going to default?**  \n",
    "\n",
    "\n",
    "The goal of this notebook is to combine SBA loan performance data with (possibly) relevant data about Colorado gleaned from other sources, such as the governor's GoCodeColorado initiative.  \n",
    "\n",
    "As with all notebooks, we start with importing several Python libraries and verifying our file location:"
   ]
  },
  {
   "cell_type": "code",
   "execution_count": 1,
   "metadata": {},
   "outputs": [
    {
     "data": {
      "text/plain": [
       "'C:\\\\Users\\\\David Olivero\\\\AnacondaProjects\\\\Loans-In-Colorado'"
      ]
     },
     "execution_count": 1,
     "metadata": {},
     "output_type": "execute_result"
    }
   ],
   "source": [
    "#Import related modules\n",
    "\n",
    "import os\n",
    "import numpy as np\n",
    "import pandas as pd\n",
    "import matplotlib.pyplot as plt\n",
    "%matplotlib inline\n",
    "\n",
    "import seaborn as sns\n",
    "import requests\n",
    "\n",
    "os.getcwd()"
   ]
  },
  {
   "cell_type": "code",
   "execution_count": 2,
   "metadata": {},
   "outputs": [
    {
     "name": "stdout",
     "output_type": "stream",
     "text": [
      "There are 20605 rows and 27 columns\n"
     ]
    }
   ],
   "source": [
    "# Read csv file using chunks and add CO-specific rows into a new dataframe\\n\",\n",
    "file = 'data\\SBAnational.csv'\n",
    "\n",
    "sba_reader = pd.read_csv(file, chunksize=5000)\n",
    "\n",
    "co_data = pd.DataFrame()\n",
    "\n",
    "for sba_chunk in sba_reader:\n",
    "    sba_add = sba_chunk[sba_chunk['State'] == 'CO']\n",
    "    co_data = co_data.append(sba_add)\n",
    "\n",
    "sba_reader.close()\n",
    "\n",
    "nRow, nCol = co_data.shape\n",
    "print(f'There are {nRow} rows and {nCol} columns')\n",
    "   "
   ]
  },
  {
   "cell_type": "markdown",
   "metadata": {},
   "source": [
    "We can see that 82% of this dataset contains loans that have been paid in full ('P I F'). The remaining 18% of the loans have been charged off, meaning the loan has defaulted:"
   ]
  },
  {
   "cell_type": "code",
   "execution_count": 3,
   "metadata": {},
   "outputs": [
    {
     "name": "stdout",
     "output_type": "stream",
     "text": [
      "P I F     0.821779\n",
      "CHGOFF    0.178221\n",
      "Name: MIS_Status, dtype: float64\n"
     ]
    }
   ],
   "source": [
    "print(co_data['MIS_Status'].value_counts([0]))"
   ]
  },
  {
   "cell_type": "code",
   "execution_count": 4,
   "metadata": {
    "scrolled": true
   },
   "outputs": [
    {
     "name": "stdout",
     "output_type": "stream",
     "text": [
      "<class 'pandas.core.frame.DataFrame'>\n",
      "Int64Index: 20605 entries, 71 to 899122\n",
      "Data columns (total 27 columns):\n",
      " #   Column             Non-Null Count  Dtype  \n",
      "---  ------             --------------  -----  \n",
      " 0   LoanNr_ChkDgt      20605 non-null  int64  \n",
      " 1   Name               20605 non-null  object \n",
      " 2   City               20605 non-null  object \n",
      " 3   State              20605 non-null  object \n",
      " 4   Zip                20605 non-null  int64  \n",
      " 5   Bank               20575 non-null  object \n",
      " 6   BankState          20575 non-null  object \n",
      " 7   NAICS              20605 non-null  int64  \n",
      " 8   ApprovalDate       20605 non-null  object \n",
      " 9   ApprovalFY         20605 non-null  object \n",
      " 10  Term               20605 non-null  int64  \n",
      " 11  NoEmp              20605 non-null  int64  \n",
      " 12  NewExist           20603 non-null  float64\n",
      " 13  CreateJob          20605 non-null  int64  \n",
      " 14  RetainedJob        20605 non-null  int64  \n",
      " 15  FranchiseCode      20605 non-null  int64  \n",
      " 16  UrbanRural         20605 non-null  int64  \n",
      " 17  RevLineCr          20479 non-null  object \n",
      " 18  LowDoc             20548 non-null  object \n",
      " 19  ChgOffDate         3730 non-null   object \n",
      " 20  DisbursementDate   20558 non-null  object \n",
      " 21  DisbursementGross  20605 non-null  object \n",
      " 22  BalanceGross       20605 non-null  object \n",
      " 23  MIS_Status         20598 non-null  object \n",
      " 24  ChgOffPrinGr       20605 non-null  object \n",
      " 25  GrAppv             20605 non-null  object \n",
      " 26  SBA_Appv           20605 non-null  object \n",
      "dtypes: float64(1), int64(9), object(17)\n",
      "memory usage: 4.4+ MB\n"
     ]
    }
   ],
   "source": [
    "co_data.info()"
   ]
  },
  {
   "cell_type": "markdown",
   "metadata": {},
   "source": [
    "## Reducing the timespan of the dataset ##\n",
    "Overall this data set is not balanced, with way more \"Paid In Full\" loans than not, but that of course is reality. A 4.5:1 ratio should be acceptable for many machine learning techniques. \n",
    "Next, we look at the number of loans per year, to explore how well spread out the loans are in the full time span of the data set, which is roughly 5.5 decades:"
   ]
  },
  {
   "cell_type": "code",
   "execution_count": 5,
   "metadata": {},
   "outputs": [
    {
     "data": {
      "text/html": [
       "<div>\n",
       "<style scoped>\n",
       "    .dataframe tbody tr th:only-of-type {\n",
       "        vertical-align: middle;\n",
       "    }\n",
       "\n",
       "    .dataframe tbody tr th {\n",
       "        vertical-align: top;\n",
       "    }\n",
       "\n",
       "    .dataframe thead th {\n",
       "        text-align: right;\n",
       "    }\n",
       "</style>\n",
       "<table border=\"1\" class=\"dataframe\">\n",
       "  <thead>\n",
       "    <tr style=\"text-align: right;\">\n",
       "      <th></th>\n",
       "      <th>ApprovalFY</th>\n",
       "      <th>Year</th>\n",
       "    </tr>\n",
       "  </thead>\n",
       "  <tbody>\n",
       "    <tr>\n",
       "      <th>2014</th>\n",
       "      <td>4</td>\n",
       "      <td>2014</td>\n",
       "    </tr>\n",
       "    <tr>\n",
       "      <th>2013</th>\n",
       "      <td>64</td>\n",
       "      <td>2013</td>\n",
       "    </tr>\n",
       "    <tr>\n",
       "      <th>2012</th>\n",
       "      <td>134</td>\n",
       "      <td>2012</td>\n",
       "    </tr>\n",
       "    <tr>\n",
       "      <th>2011</th>\n",
       "      <td>307</td>\n",
       "      <td>2011</td>\n",
       "    </tr>\n",
       "    <tr>\n",
       "      <th>2010</th>\n",
       "      <td>420</td>\n",
       "      <td>2010</td>\n",
       "    </tr>\n",
       "  </tbody>\n",
       "</table>\n",
       "</div>"
      ],
      "text/plain": [
       "      ApprovalFY  Year\n",
       "2014           4  2014\n",
       "2013          64  2013\n",
       "2012         134  2012\n",
       "2011         307  2011\n",
       "2010         420  2010"
      ]
     },
     "execution_count": 5,
     "metadata": {},
     "output_type": "execute_result"
    }
   ],
   "source": [
    "loan_years = pd.DataFrame(co_data['ApprovalFY'].value_counts())\n",
    "loan_years['Year'] = loan_years.index\n",
    "loan_years['Year'] = pd.to_numeric(loan_years['Year'])\n",
    "loan_years = loan_years.sort_values('Year', ascending=False)\n",
    "loan_years.head()"
   ]
  },
  {
   "cell_type": "code",
   "execution_count": 6,
   "metadata": {},
   "outputs": [
    {
     "data": {
      "image/png": "[encoded data removed]",
      "text/plain": [
       "<Figure size 432x288 with 1 Axes>"
      ]
     },
     "metadata": {
      "needs_background": "light"
     },
     "output_type": "display_data"
    }
   ],
   "source": [
    "fig = plt.figure()\n",
    "ax = fig.add_subplot(111)\n",
    "ax.plot(loan_years['Year'], loan_years['ApprovalFY'], linewidth=2)\n",
    "plt.xlabel('Year Loan Approved')\n",
    "plt.ylabel('Number of SBA Loans')\n",
    "plt.title('Number of SBA Loans Approved in Colorado By Year')\n",
    "plt.show()"
   ]
  },
  {
   "cell_type": "markdown",
   "metadata": {},
   "source": [
    "Fortunately the data seems to be concentrated within a roughly 20 year time frame, from 1990 to 2010. With this observation, loans from prior to 1990 are dropped from the dataset. Two decades still covers a lot of history, though: 9/11, the dotcom crash of 2000, the 2008 recession, among other things.\n"
   ]
  },
  {
   "cell_type": "code",
   "execution_count": 7,
   "metadata": {},
   "outputs": [
    {
     "data": {
      "text/plain": [
       "(20168, 27)"
      ]
     },
     "execution_count": 7,
     "metadata": {},
     "output_type": "execute_result"
    }
   ],
   "source": [
    "# Based on this, we can eliminate all loan data prior to 1990:\n",
    "co_data.ApprovalFY = pd.to_numeric(co_data.ApprovalFY)\n",
    "co_data = co_data[co_data.ApprovalFY >= 1990]\n",
    "co_data.shape"
   ]
  },
  {
   "cell_type": "markdown",
   "metadata": {},
   "source": [
    "## How has loan repayment varied over time? ##\n",
    "One question that arises: Are the good/bad ratio is relatively constant over time, or are there are significant changes in pass fail rate as a function of time?   \n",
    "For example, as can be seen below, a significant increase in loan defaults occurs for loans originated in the ~2007 time frame. This is a fascinating result that precedes the great recession, and perhaps reflects the generally high loan default rates of that period (especially property mortgages)."
   ]
  },
  {
   "cell_type": "code",
   "execution_count": 8,
   "metadata": {},
   "outputs": [
    {
     "data": {
      "image/png": "[encoded data removed]",
      "text/plain": [
       "<Figure size 432x288 with 1 Axes>"
      ]
     },
     "metadata": {
      "needs_background": "light"
     },
     "output_type": "display_data"
    }
   ],
   "source": [
    "approved = pd.DataFrame()\n",
    "\n",
    "for yr in range(1975,2014):\n",
    "    data = co_data[co_data['ApprovalFY'] == yr]\n",
    "    good = data['MIS_Status'].value_counts('P I F')\n",
    "    approved = approved.append(good)\n",
    "    \n",
    "    \n",
    "approved.index = range(1975,2014)\n",
    "\n",
    "plt.plot(approved['P I F'], linewidth = 2.0)\n",
    "plt.xlabel('Year Loan Approved')\n",
    "plt.axhline(y=0.82, c='r', linestyle='--')\n",
    "plt.annotate('Average', xy=(1990, 0.83))\n",
    "plt.ylabel('Percentage of Loans Paid In Full')\n",
    "plt.title('Colorado SBA Loans PIF by Year')\n",
    "plt.show()"
   ]
  },
  {
   "cell_type": "markdown",
   "metadata": {},
   "source": [
    "## Folding in county identification: Our index to add more data ##\n",
    "Our next step is to fold in the information for counties, since most of the GoCode Colorado data is provided by county, and county is a nice, fairly small scale refinement of the dataset (There are 63 counties in Colorado). These are pulled from a list of US cities brought in as a CSV file. This city list does not include every single city within Colorado, but the vast majority, and all significantly sized ones. Hence there may a slight reduction in dataset size after inner joining this dataset to the loan dataset. Lastly, with the 'County_FIPS' and 'County_Name' columns, we'll have both numerical and string indices for the 63 counties; either can be used for merging future datasets. (In particular, county FIPS data is used to index county chloropleths, as will be seen later.)"
   ]
  },
  {
   "cell_type": "code",
   "execution_count": 9,
   "metadata": {},
   "outputs": [
    {
     "data": {
      "text/plain": [
       "'C:\\\\Users\\\\David Olivero\\\\AnacondaProjects\\\\Loans-In-Colorado'"
      ]
     },
     "execution_count": 9,
     "metadata": {},
     "output_type": "execute_result"
    }
   ],
   "source": [
    "os.getcwd()"
   ]
  },
  {
   "cell_type": "code",
   "execution_count": 10,
   "metadata": {},
   "outputs": [
    {
     "data": {
      "text/html": [
       "<div>\n",
       "<style scoped>\n",
       "    .dataframe tbody tr th:only-of-type {\n",
       "        vertical-align: middle;\n",
       "    }\n",
       "\n",
       "    .dataframe tbody tr th {\n",
       "        vertical-align: top;\n",
       "    }\n",
       "\n",
       "    .dataframe thead th {\n",
       "        text-align: right;\n",
       "    }\n",
       "</style>\n",
       "<table border=\"1\" class=\"dataframe\">\n",
       "  <thead>\n",
       "    <tr style=\"text-align: right;\">\n",
       "      <th></th>\n",
       "      <th>City</th>\n",
       "      <th>State_Id</th>\n",
       "      <th>County_Fips</th>\n",
       "      <th>County_Name</th>\n",
       "    </tr>\n",
       "  </thead>\n",
       "  <tbody>\n",
       "    <tr>\n",
       "      <th>0</th>\n",
       "      <td>Sanford</td>\n",
       "      <td>CO</td>\n",
       "      <td>8021</td>\n",
       "      <td>Conejos</td>\n",
       "    </tr>\n",
       "    <tr>\n",
       "      <th>1</th>\n",
       "      <td>Aurora</td>\n",
       "      <td>CO</td>\n",
       "      <td>8001</td>\n",
       "      <td>Adams</td>\n",
       "    </tr>\n",
       "    <tr>\n",
       "      <th>2</th>\n",
       "      <td>Avondale</td>\n",
       "      <td>CO</td>\n",
       "      <td>8101</td>\n",
       "      <td>Pueblo</td>\n",
       "    </tr>\n",
       "    <tr>\n",
       "      <th>3</th>\n",
       "      <td>Alpine</td>\n",
       "      <td>CO</td>\n",
       "      <td>8105</td>\n",
       "      <td>Rio Grande</td>\n",
       "    </tr>\n",
       "    <tr>\n",
       "      <th>4</th>\n",
       "      <td>Pitkin</td>\n",
       "      <td>CO</td>\n",
       "      <td>8051</td>\n",
       "      <td>Gunnison</td>\n",
       "    </tr>\n",
       "  </tbody>\n",
       "</table>\n",
       "</div>"
      ],
      "text/plain": [
       "       City State_Id  County_Fips County_Name\n",
       "0   Sanford       CO         8021     Conejos\n",
       "1    Aurora       CO         8001       Adams\n",
       "2  Avondale       CO         8101      Pueblo\n",
       "3    Alpine       CO         8105  Rio Grande\n",
       "4    Pitkin       CO         8051    Gunnison"
      ]
     },
     "execution_count": 10,
     "metadata": {},
     "output_type": "execute_result"
    }
   ],
   "source": [
    "# Preparation of county listing by city name or county fips code\n",
    "# fips codes are used in a large number of GoCode Colorado files so may be a useful column to add. \n",
    "\n",
    "file = 'data\\\\uscities.csv'\n",
    "county = pd.read_csv(file, usecols= ['city','state_id','county_fips','county_name'])\n",
    "county = county[county['state_id']== 'CO'].reset_index(drop=True)\n",
    "county.columns = county.columns.str.title()\n",
    "county.head()\n"
   ]
  },
  {
   "cell_type": "code",
   "execution_count": 11,
   "metadata": {},
   "outputs": [
    {
     "data": {
      "text/plain": [
       "(455, 4)"
      ]
     },
     "execution_count": 11,
     "metadata": {},
     "output_type": "execute_result"
    }
   ],
   "source": [
    "county.shape"
   ]
  },
  {
   "cell_type": "code",
   "execution_count": 12,
   "metadata": {
    "scrolled": true
   },
   "outputs": [],
   "source": [
    "# Change the 'City' column to the title string format to match the county dataframe.\n",
    "\n",
    "co_data['City'] = co_data['City'].str.title()\n",
    "#co_data.tail()"
   ]
  },
  {
   "cell_type": "markdown",
   "metadata": {},
   "source": [
    "Inner join merge reduces the dataset from 20168 to 19372 rows, or about 4% reduction, which is acceptable. The merged dataframe is now ready to accept additional data based on county and year."
   ]
  },
  {
   "cell_type": "code",
   "execution_count": 13,
   "metadata": {},
   "outputs": [
    {
     "data": {
      "text/plain": [
       "(19372, 30)"
      ]
     },
     "execution_count": 13,
     "metadata": {},
     "output_type": "execute_result"
    }
   ],
   "source": [
    "df = pd.merge(co_data, county, how = 'inner', on = 'City')\n",
    "df.shape"
   ]
  },
  {
   "cell_type": "code",
   "execution_count": 14,
   "metadata": {},
   "outputs": [],
   "source": [
    "# This creates a list of County FIPS values that matches the format in the geojson file for the choropleths:\n",
    "\n",
    "df['County_Fips'] = df.County_Fips.astype(str)\n",
    "df['County_Fips'] = [\"0\" + i for i in df['County_Fips'] ]\n"
   ]
  },
  {
   "cell_type": "markdown",
   "metadata": {},
   "source": [
    "We can see below that the dataset is fairly heavy on a handful of counties. This makes sense, as the counties with many loans (e.g. Denver, Arapahoe, Boulder) are much higher in population. "
   ]
  },
  {
   "cell_type": "code",
   "execution_count": 15,
   "metadata": {},
   "outputs": [
    {
     "data": {
      "text/plain": [
       "Denver        3647\n",
       "Arapahoe      2046\n",
       "El Paso       1977\n",
       "Adams         1929\n",
       "Jefferson     1556\n",
       "Boulder       1380\n",
       "Larimer       1078\n",
       "Douglas        805\n",
       "Weld           506\n",
       "Mesa           445\n",
       "Pueblo         434\n",
       "La Plata       348\n",
       "Broomfield     310\n",
       "Eagle          293\n",
       "Summit         282\n",
       "Garfield       249\n",
       "Montrose       156\n",
       "Montezuma      149\n",
       "Delta          137\n",
       "Gunnison       133\n",
       "Name: County_Name, dtype: int64"
      ]
     },
     "execution_count": 15,
     "metadata": {},
     "output_type": "execute_result"
    }
   ],
   "source": [
    "county_counts = df['County_Name'].value_counts()\n",
    "\n",
    "county_counts.columns = ['NumLoans']\n",
    "county_counts.head(20)"
   ]
  },
  {
   "cell_type": "markdown",
   "metadata": {},
   "source": [
    "## Do different counties have different repayment rates? ##\n",
    "Next, we explore the county by county variation in loan performance, using a dataframe called county_rates. A histogram of the overall percentage of repaid loans by county shows some spread in values, suggesting that how likely a loan is to be paid off may be partially a function of location in Colorado:"
   ]
  },
  {
   "cell_type": "code",
   "execution_count": 16,
   "metadata": {},
   "outputs": [
    {
     "name": "stderr",
     "output_type": "stream",
     "text": [
      "C:\\Anaconda3\\lib\\site-packages\\ipykernel_launcher.py:1: DeprecationWarning: The default dtype for empty Series will be 'object' instead of 'float64' in a future version. Specify a dtype explicitly to silence this warning.\n",
      "  \"\"\"Entry point for launching an IPython kernel.\n"
     ]
    }
   ],
   "source": [
    "goodrate = pd.Series()\n",
    "\n",
    "for i in range(0,63):\n",
    "    c = county_counts.index[i]\n",
    "    goodrate[c] = df[df['County_Name'] == c]['MIS_Status'].value_counts('P I F')[0]"
   ]
  },
  {
   "cell_type": "code",
   "execution_count": 17,
   "metadata": {},
   "outputs": [
    {
     "data": {
      "image/png": "[encoded data removed]",
      "text/plain": [
       "<Figure size 432x288 with 1 Axes>"
      ]
     },
     "metadata": {
      "needs_background": "light"
     },
     "output_type": "display_data"
    }
   ],
   "source": [
    "plt.hist(goodrate, bins=15)\n",
    "plt.title('Loan Paid-In-Full Rate By County in Colorado')\n",
    "plt.xlabel('Loan Paid-In-Full Rate (1.0=100%)')\n",
    "plt.show()"
   ]
  },
  {
   "cell_type": "code",
   "execution_count": 18,
   "metadata": {},
   "outputs": [],
   "source": [
    "goodrate['County'] = goodrate.index\n",
    "county_counts['County'] = county_counts.index"
   ]
  },
  {
   "cell_type": "code",
   "execution_count": 19,
   "metadata": {},
   "outputs": [],
   "source": [
    "county_rates = pd.concat([county_counts, goodrate], axis=1)\n",
    "\n",
    "county_rates.columns = ['TotalLoansInCounty','PIF_RateByCounty']\n",
    "county_rates['County_Name'] = county_rates.index"
   ]
  },
  {
   "cell_type": "code",
   "execution_count": 20,
   "metadata": {},
   "outputs": [
    {
     "data": {
      "text/html": [
       "<div>\n",
       "<style scoped>\n",
       "    .dataframe tbody tr th:only-of-type {\n",
       "        vertical-align: middle;\n",
       "    }\n",
       "\n",
       "    .dataframe tbody tr th {\n",
       "        vertical-align: top;\n",
       "    }\n",
       "\n",
       "    .dataframe thead th {\n",
       "        text-align: right;\n",
       "    }\n",
       "</style>\n",
       "<table border=\"1\" class=\"dataframe\">\n",
       "  <thead>\n",
       "    <tr style=\"text-align: right;\">\n",
       "      <th></th>\n",
       "      <th>TotalLoansInCounty</th>\n",
       "      <th>PIF_RateByCounty</th>\n",
       "      <th>County_Name</th>\n",
       "    </tr>\n",
       "  </thead>\n",
       "  <tbody>\n",
       "    <tr>\n",
       "      <th>Denver</th>\n",
       "      <td>3647</td>\n",
       "      <td>0.839232</td>\n",
       "      <td>Denver</td>\n",
       "    </tr>\n",
       "    <tr>\n",
       "      <th>Arapahoe</th>\n",
       "      <td>2046</td>\n",
       "      <td>0.797654</td>\n",
       "      <td>Arapahoe</td>\n",
       "    </tr>\n",
       "    <tr>\n",
       "      <th>El Paso</th>\n",
       "      <td>1977</td>\n",
       "      <td>0.819838</td>\n",
       "      <td>El Paso</td>\n",
       "    </tr>\n",
       "    <tr>\n",
       "      <th>Adams</th>\n",
       "      <td>1929</td>\n",
       "      <td>0.752722</td>\n",
       "      <td>Adams</td>\n",
       "    </tr>\n",
       "    <tr>\n",
       "      <th>Jefferson</th>\n",
       "      <td>1556</td>\n",
       "      <td>0.821979</td>\n",
       "      <td>Jefferson</td>\n",
       "    </tr>\n",
       "  </tbody>\n",
       "</table>\n",
       "</div>"
      ],
      "text/plain": [
       "          TotalLoansInCounty PIF_RateByCounty County_Name\n",
       "Denver                  3647         0.839232      Denver\n",
       "Arapahoe                2046         0.797654    Arapahoe\n",
       "El Paso                 1977         0.819838     El Paso\n",
       "Adams                   1929         0.752722       Adams\n",
       "Jefferson               1556         0.821979   Jefferson"
      ]
     },
     "execution_count": 20,
     "metadata": {},
     "output_type": "execute_result"
    }
   ],
   "source": [
    "county_rates.head()"
   ]
  },
  {
   "cell_type": "code",
   "execution_count": 21,
   "metadata": {},
   "outputs": [],
   "source": [
    "# Add the loan repayment rate and number of loans per county data to the dataframe df:\n",
    "\n",
    "df = pd.merge(df, county_rates, how = 'left', on = 'County_Name')"
   ]
  },
  {
   "cell_type": "code",
   "execution_count": 22,
   "metadata": {},
   "outputs": [],
   "source": [
    "PIF = df[['County_Fips','PIF_RateByCounty']].drop_duplicates().reset_index(drop=True)"
   ]
  },
  {
   "cell_type": "code",
   "execution_count": 23,
   "metadata": {},
   "outputs": [
    {
     "data": {
      "text/html": [
       "<div>\n",
       "<style scoped>\n",
       "    .dataframe tbody tr th:only-of-type {\n",
       "        vertical-align: middle;\n",
       "    }\n",
       "\n",
       "    .dataframe tbody tr th {\n",
       "        vertical-align: top;\n",
       "    }\n",
       "\n",
       "    .dataframe thead th {\n",
       "        text-align: right;\n",
       "    }\n",
       "</style>\n",
       "<table border=\"1\" class=\"dataframe\">\n",
       "  <thead>\n",
       "    <tr style=\"text-align: right;\">\n",
       "      <th></th>\n",
       "      <th>County_Fips</th>\n",
       "      <th>PIF_RateByCounty</th>\n",
       "    </tr>\n",
       "  </thead>\n",
       "  <tbody>\n",
       "    <tr>\n",
       "      <th>0</th>\n",
       "      <td>08077</td>\n",
       "      <td>0.876404</td>\n",
       "    </tr>\n",
       "    <tr>\n",
       "      <th>1</th>\n",
       "      <td>08101</td>\n",
       "      <td>0.870968</td>\n",
       "    </tr>\n",
       "    <tr>\n",
       "      <th>2</th>\n",
       "      <td>08001</td>\n",
       "      <td>0.752722</td>\n",
       "    </tr>\n",
       "    <tr>\n",
       "      <th>3</th>\n",
       "      <td>08117</td>\n",
       "      <td>0.879433</td>\n",
       "    </tr>\n",
       "    <tr>\n",
       "      <th>4</th>\n",
       "      <td>08067</td>\n",
       "      <td>0.913793</td>\n",
       "    </tr>\n",
       "  </tbody>\n",
       "</table>\n",
       "</div>"
      ],
      "text/plain": [
       "  County_Fips PIF_RateByCounty\n",
       "0       08077         0.876404\n",
       "1       08101         0.870968\n",
       "2       08001         0.752722\n",
       "3       08117         0.879433\n",
       "4       08067         0.913793"
      ]
     },
     "execution_count": 23,
     "metadata": {},
     "output_type": "execute_result"
    }
   ],
   "source": [
    "PIF.head()"
   ]
  },
  {
   "cell_type": "markdown",
   "metadata": {},
   "source": [
    "## Adding Data: Personal Income (and Population) from GoCode Colorado##\n",
    "GoCode Colorado is an initiative put forth by Governor Jared Polis to make available certain datasets to developers, in the hopes this data can be put to use. We'll first look at the Personal income dataset from GoCode Colorado, to clean, parse and fold into the County dataset:"
   ]
  },
  {
   "cell_type": "code",
   "execution_count": 24,
   "metadata": {},
   "outputs": [
    {
     "data": {
      "text/html": [
       "<div>\n",
       "<style scoped>\n",
       "    .dataframe tbody tr th:only-of-type {\n",
       "        vertical-align: middle;\n",
       "    }\n",
       "\n",
       "    .dataframe tbody tr th {\n",
       "        vertical-align: top;\n",
       "    }\n",
       "\n",
       "    .dataframe thead th {\n",
       "        text-align: right;\n",
       "    }\n",
       "</style>\n",
       "<table border=\"1\" class=\"dataframe\">\n",
       "  <thead>\n",
       "    <tr style=\"text-align: right;\">\n",
       "      <th></th>\n",
       "      <th>areaname</th>\n",
       "      <th>periodyear</th>\n",
       "      <th>incdesc</th>\n",
       "      <th>income</th>\n",
       "      <th>population</th>\n",
       "    </tr>\n",
       "  </thead>\n",
       "  <tbody>\n",
       "    <tr>\n",
       "      <th>394</th>\n",
       "      <td>Adams County</td>\n",
       "      <td>1990</td>\n",
       "      <td>Per Capita Personal Income - Bureau of Economi...</td>\n",
       "      <td>16192</td>\n",
       "      <td>266629.0</td>\n",
       "    </tr>\n",
       "    <tr>\n",
       "      <th>397</th>\n",
       "      <td>Adams County</td>\n",
       "      <td>1991</td>\n",
       "      <td>Per Capita Personal Income - Bureau of Economi...</td>\n",
       "      <td>16647</td>\n",
       "      <td>274311.0</td>\n",
       "    </tr>\n",
       "    <tr>\n",
       "      <th>399</th>\n",
       "      <td>Adams County</td>\n",
       "      <td>1992</td>\n",
       "      <td>Per Capita Personal Income - Bureau of Economi...</td>\n",
       "      <td>17538</td>\n",
       "      <td>284362.0</td>\n",
       "    </tr>\n",
       "    <tr>\n",
       "      <th>401</th>\n",
       "      <td>Adams County</td>\n",
       "      <td>1993</td>\n",
       "      <td>Per Capita Personal Income - Bureau of Economi...</td>\n",
       "      <td>18393</td>\n",
       "      <td>293995.0</td>\n",
       "    </tr>\n",
       "    <tr>\n",
       "      <th>404</th>\n",
       "      <td>Adams County</td>\n",
       "      <td>1994</td>\n",
       "      <td>Per Capita Personal Income - Bureau of Economi...</td>\n",
       "      <td>19262</td>\n",
       "      <td>302197.0</td>\n",
       "    </tr>\n",
       "  </tbody>\n",
       "</table>\n",
       "</div>"
      ],
      "text/plain": [
       "         areaname  periodyear  \\\n",
       "394  Adams County        1990   \n",
       "397  Adams County        1991   \n",
       "399  Adams County        1992   \n",
       "401  Adams County        1993   \n",
       "404  Adams County        1994   \n",
       "\n",
       "                                               incdesc  income  population  \n",
       "394  Per Capita Personal Income - Bureau of Economi...   16192    266629.0  \n",
       "397  Per Capita Personal Income - Bureau of Economi...   16647    274311.0  \n",
       "399  Per Capita Personal Income - Bureau of Economi...   17538    284362.0  \n",
       "401  Per Capita Personal Income - Bureau of Economi...   18393    293995.0  \n",
       "404  Per Capita Personal Income - Bureau of Economi...   19262    302197.0  "
      ]
     },
     "execution_count": 24,
     "metadata": {},
     "output_type": "execute_result"
    }
   ],
   "source": [
    "# Personal income dataset from GoCode Colorado\n",
    "\n",
    "file1 = 'data\\\\Personal_income_in_Colorado.csv'\n",
    "\n",
    "income = pd.read_csv(file1, usecols=['areaname', 'periodyear', 'incdesc', 'income','population' ])\n",
    "\n",
    "# Wrangle and tidy dataset for use:\n",
    "\n",
    "income = income[income['areaname'].str.endswith('County')]    # <------ Discard all non-county rows\n",
    "income = income[income['periodyear'] >= 1990]                 # <------ Discard all dates prior to 1990\n",
    "income = income[income['incdesc'].str.startswith('Per')]      # <------ Discard Total and Median values (only per cap)\n",
    "\n",
    "income.head()\n"
   ]
  },
  {
   "cell_type": "markdown",
   "metadata": {},
   "source": [
    "A little cleanup of column information in the reduced dataframe. Remove the \"County\" in areaname, shorten the incdesc column string, and rename columns to better names and a Title format."
   ]
  },
  {
   "cell_type": "code",
   "execution_count": 25,
   "metadata": {},
   "outputs": [
    {
     "data": {
      "text/html": [
       "<div>\n",
       "<style scoped>\n",
       "    .dataframe tbody tr th:only-of-type {\n",
       "        vertical-align: middle;\n",
       "    }\n",
       "\n",
       "    .dataframe tbody tr th {\n",
       "        vertical-align: top;\n",
       "    }\n",
       "\n",
       "    .dataframe thead th {\n",
       "        text-align: right;\n",
       "    }\n",
       "</style>\n",
       "<table border=\"1\" class=\"dataframe\">\n",
       "  <thead>\n",
       "    <tr style=\"text-align: right;\">\n",
       "      <th></th>\n",
       "      <th>County</th>\n",
       "      <th>Year</th>\n",
       "      <th>MedIncome</th>\n",
       "      <th>Population</th>\n",
       "    </tr>\n",
       "  </thead>\n",
       "  <tbody>\n",
       "    <tr>\n",
       "      <th>394</th>\n",
       "      <td>Adams</td>\n",
       "      <td>1990</td>\n",
       "      <td>16192</td>\n",
       "      <td>266629.0</td>\n",
       "    </tr>\n",
       "    <tr>\n",
       "      <th>397</th>\n",
       "      <td>Adams</td>\n",
       "      <td>1991</td>\n",
       "      <td>16647</td>\n",
       "      <td>274311.0</td>\n",
       "    </tr>\n",
       "    <tr>\n",
       "      <th>399</th>\n",
       "      <td>Adams</td>\n",
       "      <td>1992</td>\n",
       "      <td>17538</td>\n",
       "      <td>284362.0</td>\n",
       "    </tr>\n",
       "    <tr>\n",
       "      <th>401</th>\n",
       "      <td>Adams</td>\n",
       "      <td>1993</td>\n",
       "      <td>18393</td>\n",
       "      <td>293995.0</td>\n",
       "    </tr>\n",
       "    <tr>\n",
       "      <th>404</th>\n",
       "      <td>Adams</td>\n",
       "      <td>1994</td>\n",
       "      <td>19262</td>\n",
       "      <td>302197.0</td>\n",
       "    </tr>\n",
       "  </tbody>\n",
       "</table>\n",
       "</div>"
      ],
      "text/plain": [
       "    County  Year  MedIncome  Population\n",
       "394  Adams  1990      16192    266629.0\n",
       "397  Adams  1991      16647    274311.0\n",
       "399  Adams  1992      17538    284362.0\n",
       "401  Adams  1993      18393    293995.0\n",
       "404  Adams  1994      19262    302197.0"
      ]
     },
     "execution_count": 25,
     "metadata": {},
     "output_type": "execute_result"
    }
   ],
   "source": [
    "income['areaname'] = income['areaname'].str.replace(' County', '') # <------Match County Name format\n",
    "income = income.drop(columns = ['incdesc'])                        # <------unneeded descriptive column\n",
    "income.columns = ['County', 'Year', 'MedIncome', 'Population']     # <------Match title format and useful names\n",
    "income.reset_index()\n",
    "income.head()"
   ]
  },
  {
   "cell_type": "markdown",
   "metadata": {},
   "source": [
    "Aggregating this dataframe to look at the maximum (of the Median) Per Capita Personal income across all counties in Colorado shows a significant spread:"
   ]
  },
  {
   "cell_type": "code",
   "execution_count": 26,
   "metadata": {},
   "outputs": [
    {
     "data": {
      "image/png": "[encoded data removed]",
      "text/plain": [
       "<Figure size 432x288 with 1 Axes>"
      ]
     },
     "metadata": {
      "needs_background": "light"
     },
     "output_type": "display_data"
    }
   ],
   "source": [
    "maxPC = income.groupby(by = 'County').agg(max)\n",
    "plt.hist(maxPC['MedIncome'], bins=30)\n",
    "plt.title('Maximum Median Income Achieved by County in Colorado')\n",
    "plt.show()"
   ]
  },
  {
   "cell_type": "markdown",
   "metadata": {},
   "source": [
    "## Some counties are growing, some aren't ###\n",
    "Since we have median income and population data for all years in this dataframe, will be interesting to look at how those numbers have shifted for different counties. Next we want to aggregate the data with a calculation for how much the population in each county has increased over a given time period. Here, we will say from 1995 to 2010:"
   ]
  },
  {
   "cell_type": "code",
   "execution_count": 27,
   "metadata": {},
   "outputs": [],
   "source": [
    "# Years can be modified here if needed in future. Year 1 is beginning year and year 2 is ending year\n",
    "year1 = 1995\n",
    "year2 = 2010\n",
    "\n",
    "# Create a couple dataframes subsetted for the two years declared above, called df1 and df2\n",
    "\n",
    "df1 = income.loc[income['Year'] == year1].reset_index()\n",
    "df2 = income.loc[income['Year'] == year2].reset_index()\n"
   ]
  },
  {
   "cell_type": "code",
   "execution_count": 28,
   "metadata": {},
   "outputs": [
    {
     "data": {
      "text/html": [
       "<div>\n",
       "<style scoped>\n",
       "    .dataframe tbody tr th:only-of-type {\n",
       "        vertical-align: middle;\n",
       "    }\n",
       "\n",
       "    .dataframe tbody tr th {\n",
       "        vertical-align: top;\n",
       "    }\n",
       "\n",
       "    .dataframe thead th {\n",
       "        text-align: right;\n",
       "    }\n",
       "</style>\n",
       "<table border=\"1\" class=\"dataframe\">\n",
       "  <thead>\n",
       "    <tr style=\"text-align: right;\">\n",
       "      <th></th>\n",
       "      <th>County</th>\n",
       "      <th>PopChange</th>\n",
       "    </tr>\n",
       "  </thead>\n",
       "  <tbody>\n",
       "    <tr>\n",
       "      <th>0</th>\n",
       "      <td>Adams</td>\n",
       "      <td>0.293547</td>\n",
       "    </tr>\n",
       "    <tr>\n",
       "      <th>1</th>\n",
       "      <td>Alamosa</td>\n",
       "      <td>0.097576</td>\n",
       "    </tr>\n",
       "    <tr>\n",
       "      <th>2</th>\n",
       "      <td>Arapahoe</td>\n",
       "      <td>0.222551</td>\n",
       "    </tr>\n",
       "    <tr>\n",
       "      <th>3</th>\n",
       "      <td>Archuleta</td>\n",
       "      <td>0.411248</td>\n",
       "    </tr>\n",
       "    <tr>\n",
       "      <th>4</th>\n",
       "      <td>Baca</td>\n",
       "      <td>-0.188918</td>\n",
       "    </tr>\n",
       "  </tbody>\n",
       "</table>\n",
       "</div>"
      ],
      "text/plain": [
       "      County  PopChange\n",
       "0      Adams   0.293547\n",
       "1    Alamosa   0.097576\n",
       "2   Arapahoe   0.222551\n",
       "3  Archuleta   0.411248\n",
       "4       Baca  -0.188918"
      ]
     },
     "execution_count": 28,
     "metadata": {},
     "output_type": "execute_result"
    }
   ],
   "source": [
    "# Create another new dataframe, called dif, to store the change in population from year1 to year2\n",
    "\n",
    "dif = pd.DataFrame()\n",
    "\n",
    "dif['County'] = df1['County']\n",
    "\n",
    "dif['PopChange'] = (df2['Population'].subtract(df1['Population'])) / df2['Population']\n",
    "dif.head()"
   ]
  },
  {
   "cell_type": "markdown",
   "metadata": {},
   "source": [
    "The histogram below shows how the population of each county has changed from year 1 to year 2, normalized by the population in year 2 (2010). "
   ]
  },
  {
   "cell_type": "code",
   "execution_count": 29,
   "metadata": {},
   "outputs": [
    {
     "data": {
      "image/png": "[encoded data removed]",
      "text/plain": [
       "<Figure size 432x288 with 1 Axes>"
      ]
     },
     "metadata": {
      "needs_background": "light"
     },
     "output_type": "display_data"
    }
   ],
   "source": [
    "plt.hist(dif['PopChange'], bins=30)\n",
    "plt.title('Changes in Colorado County population 1995-2010')\n",
    "plt.show()"
   ]
  },
  {
   "cell_type": "code",
   "execution_count": 30,
   "metadata": {},
   "outputs": [],
   "source": [
    "# Since we went to the trouble to create the population change values, \n",
    "# Add this to the original income dataframe prior to incorporating it into the main dataset\n",
    "\n",
    "income = pd.merge(income, dif, how = 'left', on = 'County')"
   ]
  },
  {
   "cell_type": "code",
   "execution_count": 31,
   "metadata": {},
   "outputs": [
    {
     "data": {
      "text/html": [
       "<div>\n",
       "<style scoped>\n",
       "    .dataframe tbody tr th:only-of-type {\n",
       "        vertical-align: middle;\n",
       "    }\n",
       "\n",
       "    .dataframe tbody tr th {\n",
       "        vertical-align: top;\n",
       "    }\n",
       "\n",
       "    .dataframe thead th {\n",
       "        text-align: right;\n",
       "    }\n",
       "</style>\n",
       "<table border=\"1\" class=\"dataframe\">\n",
       "  <thead>\n",
       "    <tr style=\"text-align: right;\">\n",
       "      <th></th>\n",
       "      <th>County</th>\n",
       "      <th>Year</th>\n",
       "      <th>MedIncome</th>\n",
       "      <th>Population</th>\n",
       "      <th>PopChange</th>\n",
       "    </tr>\n",
       "  </thead>\n",
       "  <tbody>\n",
       "    <tr>\n",
       "      <th>0</th>\n",
       "      <td>Adams</td>\n",
       "      <td>1990</td>\n",
       "      <td>16192</td>\n",
       "      <td>266629.0</td>\n",
       "      <td>0.293547</td>\n",
       "    </tr>\n",
       "    <tr>\n",
       "      <th>1</th>\n",
       "      <td>Adams</td>\n",
       "      <td>1991</td>\n",
       "      <td>16647</td>\n",
       "      <td>274311.0</td>\n",
       "      <td>0.293547</td>\n",
       "    </tr>\n",
       "    <tr>\n",
       "      <th>2</th>\n",
       "      <td>Adams</td>\n",
       "      <td>1992</td>\n",
       "      <td>17538</td>\n",
       "      <td>284362.0</td>\n",
       "      <td>0.293547</td>\n",
       "    </tr>\n",
       "    <tr>\n",
       "      <th>3</th>\n",
       "      <td>Adams</td>\n",
       "      <td>1993</td>\n",
       "      <td>18393</td>\n",
       "      <td>293995.0</td>\n",
       "      <td>0.293547</td>\n",
       "    </tr>\n",
       "    <tr>\n",
       "      <th>4</th>\n",
       "      <td>Adams</td>\n",
       "      <td>1994</td>\n",
       "      <td>19262</td>\n",
       "      <td>302197.0</td>\n",
       "      <td>0.293547</td>\n",
       "    </tr>\n",
       "  </tbody>\n",
       "</table>\n",
       "</div>"
      ],
      "text/plain": [
       "  County  Year  MedIncome  Population  PopChange\n",
       "0  Adams  1990      16192    266629.0   0.293547\n",
       "1  Adams  1991      16647    274311.0   0.293547\n",
       "2  Adams  1992      17538    284362.0   0.293547\n",
       "3  Adams  1993      18393    293995.0   0.293547\n",
       "4  Adams  1994      19262    302197.0   0.293547"
      ]
     },
     "execution_count": 31,
     "metadata": {},
     "output_type": "execute_result"
    }
   ],
   "source": [
    "income.head()"
   ]
  },
  {
   "cell_type": "markdown",
   "metadata": {},
   "source": [
    "Now we want to merge the new income dataframe into the loans dataframe based on both year and county:"
   ]
  },
  {
   "cell_type": "code",
   "execution_count": 32,
   "metadata": {},
   "outputs": [],
   "source": [
    "df = pd.merge(df, income, how = 'left', left_on=['County_Name','ApprovalFY'], right_on=['County','Year'])"
   ]
  },
  {
   "cell_type": "code",
   "execution_count": 33,
   "metadata": {},
   "outputs": [
    {
     "data": {
      "text/html": [
       "<div>\n",
       "<style scoped>\n",
       "    .dataframe tbody tr th:only-of-type {\n",
       "        vertical-align: middle;\n",
       "    }\n",
       "\n",
       "    .dataframe tbody tr th {\n",
       "        vertical-align: top;\n",
       "    }\n",
       "\n",
       "    .dataframe thead th {\n",
       "        text-align: right;\n",
       "    }\n",
       "</style>\n",
       "<table border=\"1\" class=\"dataframe\">\n",
       "  <thead>\n",
       "    <tr style=\"text-align: right;\">\n",
       "      <th></th>\n",
       "      <th>LoanNr_ChkDgt</th>\n",
       "      <th>Name</th>\n",
       "      <th>City</th>\n",
       "      <th>State</th>\n",
       "      <th>Zip</th>\n",
       "      <th>Bank</th>\n",
       "      <th>BankState</th>\n",
       "      <th>NAICS</th>\n",
       "      <th>ApprovalDate</th>\n",
       "      <th>ApprovalFY</th>\n",
       "      <th>...</th>\n",
       "      <th>State_Id</th>\n",
       "      <th>County_Fips</th>\n",
       "      <th>County_Name</th>\n",
       "      <th>TotalLoansInCounty</th>\n",
       "      <th>PIF_RateByCounty</th>\n",
       "      <th>County</th>\n",
       "      <th>Year</th>\n",
       "      <th>MedIncome</th>\n",
       "      <th>Population</th>\n",
       "      <th>PopChange</th>\n",
       "    </tr>\n",
       "  </thead>\n",
       "  <tbody>\n",
       "    <tr>\n",
       "      <th>19367</th>\n",
       "      <td>8771344008</td>\n",
       "      <td>DAHL-HOUSE CONSTRUCTION</td>\n",
       "      <td>Indian Hills</td>\n",
       "      <td>CO</td>\n",
       "      <td>80454</td>\n",
       "      <td>U.S. BANK NATIONAL ASSOCIATION</td>\n",
       "      <td>OH</td>\n",
       "      <td>238110</td>\n",
       "      <td>7-Apr-05</td>\n",
       "      <td>2005</td>\n",
       "      <td>...</td>\n",
       "      <td>CO</td>\n",
       "      <td>08059</td>\n",
       "      <td>Jefferson</td>\n",
       "      <td>1556</td>\n",
       "      <td>0.821979</td>\n",
       "      <td>Jefferson</td>\n",
       "      <td>2005</td>\n",
       "      <td>41754</td>\n",
       "      <td>519675.0</td>\n",
       "      <td>0.081159</td>\n",
       "    </tr>\n",
       "    <tr>\n",
       "      <th>19368</th>\n",
       "      <td>8955463007</td>\n",
       "      <td>CRYSTAL STIX</td>\n",
       "      <td>Moffat</td>\n",
       "      <td>CO</td>\n",
       "      <td>81143</td>\n",
       "      <td>VECTRA BK COLORADO NATL ASSOC</td>\n",
       "      <td>NM</td>\n",
       "      <td>339920</td>\n",
       "      <td>24-Jan-96</td>\n",
       "      <td>1996</td>\n",
       "      <td>...</td>\n",
       "      <td>CO</td>\n",
       "      <td>08109</td>\n",
       "      <td>Saguache</td>\n",
       "      <td>12</td>\n",
       "      <td>1</td>\n",
       "      <td>Saguache</td>\n",
       "      <td>1996</td>\n",
       "      <td>15121</td>\n",
       "      <td>5413.0</td>\n",
       "      <td>0.152379</td>\n",
       "    </tr>\n",
       "    <tr>\n",
       "      <th>19369</th>\n",
       "      <td>9253773006</td>\n",
       "      <td>ROMEO LIQUORS</td>\n",
       "      <td>Romeo</td>\n",
       "      <td>CO</td>\n",
       "      <td>81148</td>\n",
       "      <td>VECTRA BK COLORADO NATL ASSOC</td>\n",
       "      <td>NM</td>\n",
       "      <td>445310</td>\n",
       "      <td>6-May-96</td>\n",
       "      <td>1996</td>\n",
       "      <td>...</td>\n",
       "      <td>CO</td>\n",
       "      <td>08021</td>\n",
       "      <td>Conejos</td>\n",
       "      <td>8</td>\n",
       "      <td>1</td>\n",
       "      <td>Conejos</td>\n",
       "      <td>1996</td>\n",
       "      <td>13819</td>\n",
       "      <td>7995.0</td>\n",
       "      <td>0.048722</td>\n",
       "    </tr>\n",
       "    <tr>\n",
       "      <th>19370</th>\n",
       "      <td>9497963000</td>\n",
       "      <td>SKC ACCOUNTING SERVICES</td>\n",
       "      <td>Holly</td>\n",
       "      <td>CO</td>\n",
       "      <td>81047</td>\n",
       "      <td>VALLEY NATL BANK A BRANCH OF</td>\n",
       "      <td>CO</td>\n",
       "      <td>0</td>\n",
       "      <td>29-Aug-96</td>\n",
       "      <td>1996</td>\n",
       "      <td>...</td>\n",
       "      <td>CO</td>\n",
       "      <td>08099</td>\n",
       "      <td>Prowers</td>\n",
       "      <td>15</td>\n",
       "      <td>0.8</td>\n",
       "      <td>Prowers</td>\n",
       "      <td>1996</td>\n",
       "      <td>18021</td>\n",
       "      <td>14046.0</td>\n",
       "      <td>-0.110333</td>\n",
       "    </tr>\n",
       "    <tr>\n",
       "      <th>19371</th>\n",
       "      <td>9597073001</td>\n",
       "      <td>TINY'S COUNTRY STORE, INC.</td>\n",
       "      <td>Granada</td>\n",
       "      <td>CO</td>\n",
       "      <td>81041</td>\n",
       "      <td>SCEDD DEVELOPMENT COMPANY</td>\n",
       "      <td>CO</td>\n",
       "      <td>0</td>\n",
       "      <td>30-Sep-96</td>\n",
       "      <td>1996</td>\n",
       "      <td>...</td>\n",
       "      <td>CO</td>\n",
       "      <td>08099</td>\n",
       "      <td>Prowers</td>\n",
       "      <td>15</td>\n",
       "      <td>0.8</td>\n",
       "      <td>Prowers</td>\n",
       "      <td>1996</td>\n",
       "      <td>18021</td>\n",
       "      <td>14046.0</td>\n",
       "      <td>-0.110333</td>\n",
       "    </tr>\n",
       "  </tbody>\n",
       "</table>\n",
       "<p>5 rows × 37 columns</p>\n",
       "</div>"
      ],
      "text/plain": [
       "       LoanNr_ChkDgt                        Name          City State    Zip  \\\n",
       "19367     8771344008     DAHL-HOUSE CONSTRUCTION  Indian Hills    CO  80454   \n",
       "19368     8955463007                CRYSTAL STIX        Moffat    CO  81143   \n",
       "19369     9253773006               ROMEO LIQUORS         Romeo    CO  81148   \n",
       "19370     9497963000     SKC ACCOUNTING SERVICES         Holly    CO  81047   \n",
       "19371     9597073001  TINY'S COUNTRY STORE, INC.       Granada    CO  81041   \n",
       "\n",
       "                                 Bank BankState   NAICS ApprovalDate  \\\n",
       "19367  U.S. BANK NATIONAL ASSOCIATION        OH  238110     7-Apr-05   \n",
       "19368   VECTRA BK COLORADO NATL ASSOC        NM  339920    24-Jan-96   \n",
       "19369   VECTRA BK COLORADO NATL ASSOC        NM  445310     6-May-96   \n",
       "19370    VALLEY NATL BANK A BRANCH OF        CO       0    29-Aug-96   \n",
       "19371       SCEDD DEVELOPMENT COMPANY        CO       0    30-Sep-96   \n",
       "\n",
       "       ApprovalFY  ...  State_Id  County_Fips  County_Name  \\\n",
       "19367        2005  ...        CO        08059    Jefferson   \n",
       "19368        1996  ...        CO        08109     Saguache   \n",
       "19369        1996  ...        CO        08021      Conejos   \n",
       "19370        1996  ...        CO        08099      Prowers   \n",
       "19371        1996  ...        CO        08099      Prowers   \n",
       "\n",
       "       TotalLoansInCounty  PIF_RateByCounty     County  Year MedIncome  \\\n",
       "19367                1556          0.821979  Jefferson  2005     41754   \n",
       "19368                  12                 1   Saguache  1996     15121   \n",
       "19369                   8                 1    Conejos  1996     13819   \n",
       "19370                  15               0.8    Prowers  1996     18021   \n",
       "19371                  15               0.8    Prowers  1996     18021   \n",
       "\n",
       "      Population PopChange  \n",
       "19367   519675.0  0.081159  \n",
       "19368     5413.0  0.152379  \n",
       "19369     7995.0  0.048722  \n",
       "19370    14046.0 -0.110333  \n",
       "19371    14046.0 -0.110333  \n",
       "\n",
       "[5 rows x 37 columns]"
      ]
     },
     "execution_count": 33,
     "metadata": {},
     "output_type": "execute_result"
    }
   ],
   "source": [
    "df.tail()"
   ]
  },
  {
   "cell_type": "markdown",
   "metadata": {},
   "source": [
    "## Adding Data: Employment and Unemployment by County, from GoCode Colorado ##\n",
    "Another dataset made available as part of GoCodeColorado is the labor department data for employment and unemployment as a function of county and year. We'll pull this in and glean potentially impactful features from this dataset."
   ]
  },
  {
   "cell_type": "code",
   "execution_count": 34,
   "metadata": {},
   "outputs": [
    {
     "data": {
      "text/html": [
       "<div>\n",
       "<style scoped>\n",
       "    .dataframe tbody tr th:only-of-type {\n",
       "        vertical-align: middle;\n",
       "    }\n",
       "\n",
       "    .dataframe tbody tr th {\n",
       "        vertical-align: top;\n",
       "    }\n",
       "\n",
       "    .dataframe thead th {\n",
       "        text-align: right;\n",
       "    }\n",
       "</style>\n",
       "<table border=\"1\" class=\"dataframe\">\n",
       "  <thead>\n",
       "    <tr style=\"text-align: right;\">\n",
       "      <th></th>\n",
       "      <th>areaname</th>\n",
       "      <th>periodyear</th>\n",
       "      <th>pertypdesc</th>\n",
       "      <th>laborforce</th>\n",
       "      <th>emplab</th>\n",
       "      <th>unemp</th>\n",
       "      <th>unemprate</th>\n",
       "    </tr>\n",
       "  </thead>\n",
       "  <tbody>\n",
       "    <tr>\n",
       "      <th>711</th>\n",
       "      <td>Adams County</td>\n",
       "      <td>1990</td>\n",
       "      <td>Annual</td>\n",
       "      <td>140544</td>\n",
       "      <td>132385</td>\n",
       "      <td>8159</td>\n",
       "      <td>5.8</td>\n",
       "    </tr>\n",
       "    <tr>\n",
       "      <th>724</th>\n",
       "      <td>Adams County</td>\n",
       "      <td>1991</td>\n",
       "      <td>Annual</td>\n",
       "      <td>142002</td>\n",
       "      <td>134516</td>\n",
       "      <td>7486</td>\n",
       "      <td>5.3</td>\n",
       "    </tr>\n",
       "    <tr>\n",
       "      <th>737</th>\n",
       "      <td>Adams County</td>\n",
       "      <td>1992</td>\n",
       "      <td>Annual</td>\n",
       "      <td>145671</td>\n",
       "      <td>137195</td>\n",
       "      <td>8476</td>\n",
       "      <td>5.8</td>\n",
       "    </tr>\n",
       "    <tr>\n",
       "      <th>750</th>\n",
       "      <td>Adams County</td>\n",
       "      <td>1993</td>\n",
       "      <td>Annual</td>\n",
       "      <td>150890</td>\n",
       "      <td>142831</td>\n",
       "      <td>8059</td>\n",
       "      <td>5.3</td>\n",
       "    </tr>\n",
       "    <tr>\n",
       "      <th>763</th>\n",
       "      <td>Adams County</td>\n",
       "      <td>1994</td>\n",
       "      <td>Annual</td>\n",
       "      <td>158763</td>\n",
       "      <td>151849</td>\n",
       "      <td>6914</td>\n",
       "      <td>4.4</td>\n",
       "    </tr>\n",
       "  </tbody>\n",
       "</table>\n",
       "</div>"
      ],
      "text/plain": [
       "         areaname  periodyear pertypdesc  laborforce  emplab  unemp  unemprate\n",
       "711  Adams County        1990     Annual      140544  132385   8159        5.8\n",
       "724  Adams County        1991     Annual      142002  134516   7486        5.3\n",
       "737  Adams County        1992     Annual      145671  137195   8476        5.8\n",
       "750  Adams County        1993     Annual      150890  142831   8059        5.3\n",
       "763  Adams County        1994     Annual      158763  151849   6914        4.4"
      ]
     },
     "execution_count": 34,
     "metadata": {},
     "output_type": "execute_result"
    }
   ],
   "source": [
    "file_unemp = 'data\\\\Unemployment_Estimates_in_Colorado.csv'\n",
    "\n",
    "employ = pd.read_csv(file_unemp, usecols=['areaname', 'periodyear', 'pertypdesc','laborforce', 'emplab','unemp','unemprate' ])\n",
    "\n",
    "# Wrangle and tidy dataset for use:\n",
    "\n",
    "employ = employ[employ['areaname'].str.endswith('County')]    # <------ Discard all non-county rows\n",
    "employ = employ[employ['periodyear'] >= 1990]                 # <------ Discard all dates prior to 1990\n",
    "employ = employ[employ['pertypdesc'] == 'Annual']             # <------ Discard all monthly data\n",
    "\n",
    "employ.head()"
   ]
  },
  {
   "cell_type": "code",
   "execution_count": 35,
   "metadata": {},
   "outputs": [
    {
     "data": {
      "text/html": [
       "<div>\n",
       "<style scoped>\n",
       "    .dataframe tbody tr th:only-of-type {\n",
       "        vertical-align: middle;\n",
       "    }\n",
       "\n",
       "    .dataframe tbody tr th {\n",
       "        vertical-align: top;\n",
       "    }\n",
       "\n",
       "    .dataframe thead th {\n",
       "        text-align: right;\n",
       "    }\n",
       "</style>\n",
       "<table border=\"1\" class=\"dataframe\">\n",
       "  <thead>\n",
       "    <tr style=\"text-align: right;\">\n",
       "      <th></th>\n",
       "      <th>County</th>\n",
       "      <th>Year</th>\n",
       "      <th>LaborForceInCty</th>\n",
       "      <th>EmployedInCty</th>\n",
       "      <th>UnempInCty</th>\n",
       "      <th>UnempRateInCty</th>\n",
       "    </tr>\n",
       "  </thead>\n",
       "  <tbody>\n",
       "    <tr>\n",
       "      <th>0</th>\n",
       "      <td>Adams</td>\n",
       "      <td>1990</td>\n",
       "      <td>140544</td>\n",
       "      <td>132385</td>\n",
       "      <td>8159</td>\n",
       "      <td>5.8</td>\n",
       "    </tr>\n",
       "    <tr>\n",
       "      <th>1</th>\n",
       "      <td>Adams</td>\n",
       "      <td>1991</td>\n",
       "      <td>142002</td>\n",
       "      <td>134516</td>\n",
       "      <td>7486</td>\n",
       "      <td>5.3</td>\n",
       "    </tr>\n",
       "    <tr>\n",
       "      <th>2</th>\n",
       "      <td>Adams</td>\n",
       "      <td>1992</td>\n",
       "      <td>145671</td>\n",
       "      <td>137195</td>\n",
       "      <td>8476</td>\n",
       "      <td>5.8</td>\n",
       "    </tr>\n",
       "    <tr>\n",
       "      <th>3</th>\n",
       "      <td>Adams</td>\n",
       "      <td>1993</td>\n",
       "      <td>150890</td>\n",
       "      <td>142831</td>\n",
       "      <td>8059</td>\n",
       "      <td>5.3</td>\n",
       "    </tr>\n",
       "    <tr>\n",
       "      <th>4</th>\n",
       "      <td>Adams</td>\n",
       "      <td>1994</td>\n",
       "      <td>158763</td>\n",
       "      <td>151849</td>\n",
       "      <td>6914</td>\n",
       "      <td>4.4</td>\n",
       "    </tr>\n",
       "    <tr>\n",
       "      <th>...</th>\n",
       "      <td>...</td>\n",
       "      <td>...</td>\n",
       "      <td>...</td>\n",
       "      <td>...</td>\n",
       "      <td>...</td>\n",
       "      <td>...</td>\n",
       "    </tr>\n",
       "    <tr>\n",
       "      <th>1915</th>\n",
       "      <td>Elbert</td>\n",
       "      <td>2018</td>\n",
       "      <td>15034</td>\n",
       "      <td>14628</td>\n",
       "      <td>406</td>\n",
       "      <td>2.7</td>\n",
       "    </tr>\n",
       "    <tr>\n",
       "      <th>1916</th>\n",
       "      <td>Lake</td>\n",
       "      <td>2016</td>\n",
       "      <td>4613</td>\n",
       "      <td>4481</td>\n",
       "      <td>132</td>\n",
       "      <td>2.9</td>\n",
       "    </tr>\n",
       "    <tr>\n",
       "      <th>1917</th>\n",
       "      <td>Kit Carson</td>\n",
       "      <td>2016</td>\n",
       "      <td>4534</td>\n",
       "      <td>4438</td>\n",
       "      <td>96</td>\n",
       "      <td>2.1</td>\n",
       "    </tr>\n",
       "    <tr>\n",
       "      <th>1918</th>\n",
       "      <td>Baca</td>\n",
       "      <td>2019</td>\n",
       "      <td>2175</td>\n",
       "      <td>2138</td>\n",
       "      <td>37</td>\n",
       "      <td>1.7</td>\n",
       "    </tr>\n",
       "    <tr>\n",
       "      <th>1919</th>\n",
       "      <td>Otero</td>\n",
       "      <td>2018</td>\n",
       "      <td>8401</td>\n",
       "      <td>7990</td>\n",
       "      <td>411</td>\n",
       "      <td>4.9</td>\n",
       "    </tr>\n",
       "  </tbody>\n",
       "</table>\n",
       "<p>1920 rows × 6 columns</p>\n",
       "</div>"
      ],
      "text/plain": [
       "          County  Year  LaborForceInCty  EmployedInCty  UnempInCty  \\\n",
       "0          Adams  1990           140544         132385        8159   \n",
       "1          Adams  1991           142002         134516        7486   \n",
       "2          Adams  1992           145671         137195        8476   \n",
       "3          Adams  1993           150890         142831        8059   \n",
       "4          Adams  1994           158763         151849        6914   \n",
       "...          ...   ...              ...            ...         ...   \n",
       "1915      Elbert  2018            15034          14628         406   \n",
       "1916        Lake  2016             4613           4481         132   \n",
       "1917  Kit Carson  2016             4534           4438          96   \n",
       "1918        Baca  2019             2175           2138          37   \n",
       "1919       Otero  2018             8401           7990         411   \n",
       "\n",
       "      UnempRateInCty  \n",
       "0                5.8  \n",
       "1                5.3  \n",
       "2                5.8  \n",
       "3                5.3  \n",
       "4                4.4  \n",
       "...              ...  \n",
       "1915             2.7  \n",
       "1916             2.9  \n",
       "1917             2.1  \n",
       "1918             1.7  \n",
       "1919             4.9  \n",
       "\n",
       "[1920 rows x 6 columns]"
      ]
     },
     "execution_count": 35,
     "metadata": {},
     "output_type": "execute_result"
    }
   ],
   "source": [
    "# Drop unneeded columns and rename others to match title case and create more meaningful column names\n",
    "\n",
    "employ['areaname'] = employ['areaname'].str.replace(' County', '')\n",
    "employ = employ.drop(columns = ['pertypdesc'])\n",
    "employ.columns = ['County', 'Year', 'LaborForceInCty', 'EmployedInCty','UnempInCty','UnempRateInCty']\n",
    "employ.reset_index(drop=True)"
   ]
  },
  {
   "cell_type": "code",
   "execution_count": 36,
   "metadata": {},
   "outputs": [],
   "source": [
    "df = pd.merge(df, employ, how = 'left', left_on=['County_Name','ApprovalFY'], right_on=['County','Year'])"
   ]
  },
  {
   "cell_type": "markdown",
   "metadata": {},
   "source": [
    "## Adding Data: CDC All-Cause Mortality ##\n",
    "Here we'll start working with CDC Mortality Data from CDC WONDER database. Specifically, we'l focus on gleaning the all-cause mortality rates by county. The theory behind including this feature in our model is that mortality may be an indicator of the age of population, affluence, disposible income, and general health, which may play a role in whether or not businesses in these communities can succeed or not. To this end, we pull the Compressed_Mortality file off the CDC WONDER database:"
   ]
  },
  {
   "cell_type": "code",
   "execution_count": 37,
   "metadata": {},
   "outputs": [],
   "source": [
    "# Read output from WONDER database query: Death rates by county for the year 2000\n",
    "\n",
    "file = 'data\\\\Compressed_Mortality.txt'\n",
    "\n",
    "with open(file, 'r') as dat:\n",
    "    lines = dat.readlines()\n",
    "    \n",
    "dat.close()"
   ]
  },
  {
   "cell_type": "code",
   "execution_count": 38,
   "metadata": {},
   "outputs": [],
   "source": [
    "# Convert the read lines into a list of lists\n",
    "\n",
    "mortal_list = []\n",
    "\n",
    "for line in lines:\n",
    "    linelist = line.strip('\\n').split('\\t')\n",
    "    linelist[1] = linelist[1][1:-12]\n",
    "    linelist[2] = linelist[2][1:-1]\n",
    "    mortal_list.append(linelist)"
   ]
  },
  {
   "cell_type": "code",
   "execution_count": 39,
   "metadata": {},
   "outputs": [],
   "source": [
    "# Convert the list object into a dataframe, with header information\n",
    "\n",
    "mortal = pd.DataFrame(mortal_list)\n",
    "\n",
    "new_header = mortal.iloc[0]                    # <-------------grab the first row for the header\n",
    "mortal = mortal[1:]                            # <-------------take the data less the header row\n",
    "mortal.columns = new_header                    # <-------------set the header row as the df header"
   ]
  },
  {
   "cell_type": "code",
   "execution_count": 40,
   "metadata": {},
   "outputs": [
    {
     "data": {
      "text/html": [
       "<div>\n",
       "<style scoped>\n",
       "    .dataframe tbody tr th:only-of-type {\n",
       "        vertical-align: middle;\n",
       "    }\n",
       "\n",
       "    .dataframe tbody tr th {\n",
       "        vertical-align: top;\n",
       "    }\n",
       "\n",
       "    .dataframe thead th {\n",
       "        text-align: right;\n",
       "    }\n",
       "</style>\n",
       "<table border=\"1\" class=\"dataframe\">\n",
       "  <thead>\n",
       "    <tr style=\"text-align: right;\">\n",
       "      <th></th>\n",
       "      <th></th>\n",
       "      <th></th>\n",
       "      <th>County Code</th>\n",
       "      <th>Crude Rate</th>\n",
       "    </tr>\n",
       "  </thead>\n",
       "  <tbody>\n",
       "    <tr>\n",
       "      <th>1</th>\n",
       "      <td></td>\n",
       "      <td>Baca</td>\n",
       "      <td>08009</td>\n",
       "      <td>1372.6</td>\n",
       "    </tr>\n",
       "    <tr>\n",
       "      <th>2</th>\n",
       "      <td></td>\n",
       "      <td>Phillips</td>\n",
       "      <td>08095</td>\n",
       "      <td>1294.6</td>\n",
       "    </tr>\n",
       "    <tr>\n",
       "      <th>3</th>\n",
       "      <td></td>\n",
       "      <td>Las Animas</td>\n",
       "      <td>08071</td>\n",
       "      <td>1190.2</td>\n",
       "    </tr>\n",
       "    <tr>\n",
       "      <th>4</th>\n",
       "      <td></td>\n",
       "      <td>Otero</td>\n",
       "      <td>08089</td>\n",
       "      <td>1157.0</td>\n",
       "    </tr>\n",
       "    <tr>\n",
       "      <th>5</th>\n",
       "      <td></td>\n",
       "      <td>Costilla</td>\n",
       "      <td>08023</td>\n",
       "      <td>1146.6</td>\n",
       "    </tr>\n",
       "  </tbody>\n",
       "</table>\n",
       "</div>"
      ],
      "text/plain": [
       "0               County Code Crude Rate\n",
       "1          Baca       08009     1372.6\n",
       "2      Phillips       08095     1294.6\n",
       "3    Las Animas       08071     1190.2\n",
       "4         Otero       08089     1157.0\n",
       "5      Costilla       08023     1146.6"
      ]
     },
     "execution_count": 40,
     "metadata": {},
     "output_type": "execute_result"
    }
   ],
   "source": [
    "# For now, just keep the deaths per 100,000 people statistic for each county:\n",
    "\n",
    "mortal = mortal.drop(columns = ['Deaths', 'Population', '% of Total Deaths'])\n",
    "mortal.head()"
   ]
  },
  {
   "cell_type": "code",
   "execution_count": 41,
   "metadata": {},
   "outputs": [
    {
     "data": {
      "text/plain": [
       "Index(['', '', 'County Code', 'Crude Rate'], dtype='object', name=0)"
      ]
     },
     "execution_count": 41,
     "metadata": {},
     "output_type": "execute_result"
    }
   ],
   "source": [
    "# There is still a \"dummy\" column in the DataFrame, an artifact of the way we split the strings\n",
    "mortal.columns"
   ]
  },
  {
   "cell_type": "code",
   "execution_count": 42,
   "metadata": {},
   "outputs": [
    {
     "data": {
      "text/html": [
       "<div>\n",
       "<style scoped>\n",
       "    .dataframe tbody tr th:only-of-type {\n",
       "        vertical-align: middle;\n",
       "    }\n",
       "\n",
       "    .dataframe tbody tr th {\n",
       "        vertical-align: top;\n",
       "    }\n",
       "\n",
       "    .dataframe thead th {\n",
       "        text-align: right;\n",
       "    }\n",
       "</style>\n",
       "<table border=\"1\" class=\"dataframe\">\n",
       "  <thead>\n",
       "    <tr style=\"text-align: right;\">\n",
       "      <th></th>\n",
       "      <th>County</th>\n",
       "      <th>DeathsPer100k</th>\n",
       "    </tr>\n",
       "  </thead>\n",
       "  <tbody>\n",
       "    <tr>\n",
       "      <th>1</th>\n",
       "      <td>Baca</td>\n",
       "      <td>1372.6</td>\n",
       "    </tr>\n",
       "    <tr>\n",
       "      <th>2</th>\n",
       "      <td>Phillips</td>\n",
       "      <td>1294.6</td>\n",
       "    </tr>\n",
       "    <tr>\n",
       "      <th>3</th>\n",
       "      <td>Las Animas</td>\n",
       "      <td>1190.2</td>\n",
       "    </tr>\n",
       "    <tr>\n",
       "      <th>4</th>\n",
       "      <td>Otero</td>\n",
       "      <td>1157.0</td>\n",
       "    </tr>\n",
       "    <tr>\n",
       "      <th>5</th>\n",
       "      <td>Costilla</td>\n",
       "      <td>1146.6</td>\n",
       "    </tr>\n",
       "  </tbody>\n",
       "</table>\n",
       "</div>"
      ],
      "text/plain": [
       "       County DeathsPer100k\n",
       "1        Baca        1372.6\n",
       "2    Phillips        1294.6\n",
       "3  Las Animas        1190.2\n",
       "4       Otero        1157.0\n",
       "5    Costilla        1146.6"
      ]
     },
     "execution_count": 42,
     "metadata": {},
     "output_type": "execute_result"
    }
   ],
   "source": [
    "# Rename columns to appropriate title formats\n",
    "# Eliminate \"Dummy\" column so it doesn't get merged\n",
    "\n",
    "mortal.columns = ['Dummy','County', 'County_Fips', 'DeathsPer100k']\n",
    "mortal = mortal.drop(columns = ['Dummy', 'County_Fips'])\n",
    "mortal.head()"
   ]
  },
  {
   "cell_type": "code",
   "execution_count": 43,
   "metadata": {},
   "outputs": [],
   "source": [
    "df = pd.merge(df, mortal, how = 'left', left_on=['County_Name'], right_on=['County'])"
   ]
  },
  {
   "cell_type": "markdown",
   "metadata": {},
   "source": [
    "## ...And Finally, Some Housecleaning of the Main Dataset ##\n",
    "Here we'll remove columns we don't need, and make sure that columns that remain are in data types that are useful."
   ]
  },
  {
   "cell_type": "code",
   "execution_count": 44,
   "metadata": {},
   "outputs": [],
   "source": [
    "# First step is to remove redundant or single-value columns from merges\n",
    "df = df.drop(columns = ['County', 'Year_y', 'County_x', 'Year_x', 'County_y', 'State_Id', 'State'])\n",
    "\n",
    "# Also drop columns that don't code useful info, like zip codes and loan numbers\n",
    "df = df.drop(columns = ['LoanNr_ChkDgt', 'Zip'])"
   ]
  },
  {
   "cell_type": "markdown",
   "metadata": {},
   "source": [
    "We will do more data cleaning later, but for now the dataset is looking pretty decent, with unique columns, each with potentially useful information. "
   ]
  },
  {
   "cell_type": "markdown",
   "metadata": {},
   "source": [
    "## EDA: How does PIF rate vary with loan size? ##\n",
    "The following section deals with getting the loan repayment rate as a function of the size of the loan, across the entire Colorado dataset. We'll do this using the \"DisbursementGross\" column from the SBA loan dataset. "
   ]
  },
  {
   "cell_type": "code",
   "execution_count": 45,
   "metadata": {},
   "outputs": [],
   "source": [
    "# Convert DisbursementGross column to numeric\n",
    "\n",
    "df['DisbursementGross'] = df['DisbursementGross'].apply(lambda x: x.replace('$','')).apply(lambda x: x.replace(',','')).astype(np.float)\n"
   ]
  },
  {
   "cell_type": "markdown",
   "metadata": {},
   "source": [
    "We can see in the histogram plot below that loan size distribution appears to be somewhat exponential or Poisson in shape, with the majority of loans being small loans.  "
   ]
  },
  {
   "cell_type": "code",
   "execution_count": 46,
   "metadata": {},
   "outputs": [
    {
     "data": {
      "image/png": "[encoded data removed]",
      "text/plain": [
       "<Figure size 432x288 with 1 Axes>"
      ]
     },
     "metadata": {
      "needs_background": "light"
     },
     "output_type": "display_data"
    }
   ],
   "source": [
    "plt.hist(df['DisbursementGross'], bins = 60)\n",
    "plt.xlabel('Loan Disbursement Amount, $')\n",
    "plt.title('SBA Loans in Colorado: Loan Size')\n",
    "plt.show()"
   ]
  },
  {
   "cell_type": "code",
   "execution_count": 47,
   "metadata": {},
   "outputs": [
    {
     "name": "stdout",
     "output_type": "stream",
     "text": [
      "[0, 50000, 100000, 150000, 200000, 250000, 300000, 350000, 400000, 450000, 500000, 550000, 600000, 650000, 700000, 750000, 800000, 850000, 900000, 950000]\n"
     ]
    }
   ],
   "source": [
    "# We start by creating a list representing the bin limits for the loan size data.\n",
    "# For starters we will bins loans in increments of $50,000.\n",
    "\n",
    "binz = [50000 * x for x in list(range(0,20))]\n",
    "print(binz)\n",
    "   "
   ]
  },
  {
   "cell_type": "code",
   "execution_count": 48,
   "metadata": {},
   "outputs": [],
   "source": [
    "# Create a dictionary object that, for each element in binz, stores an associated PIF rate:\n",
    "PIF_CI = dict()\n",
    "bin_qty = dict()\n",
    "\n",
    "for i in binz[0:-1]:\n",
    "    sub_df = df[(df['DisbursementGross'] > i) & (df['DisbursementGross'] <= (i+50000))]\n",
    "    good_loans = sub_df['MIS_Status'].value_counts('P I F')[0]\n",
    "    PIF_CI[i] = 1.96*np.sqrt(good_loans*(1-good_loans)/len(sub_df))\n",
    "    bin_qty[i] = good_loans"
   ]
  },
  {
   "cell_type": "code",
   "execution_count": 49,
   "metadata": {},
   "outputs": [
    {
     "name": "stdout",
     "output_type": "stream",
     "text": [
      "{0: 0.7541053529537215, 50000: 0.7830620549338759, 100000: 0.8087748344370861, 150000: 0.8676569885212694, 200000: 0.8669950738916257, 250000: 0.8827361563517915, 300000: 0.8898186889818689, 350000: 0.8867924528301887, 400000: 0.9244851258581236, 450000: 0.9190283400809717, 500000: 0.9096774193548387, 550000: 0.9233449477351916, 600000: 0.9, 650000: 0.9237668161434978, 700000: 0.917098445595855, 750000: 0.8794326241134752, 800000: 0.8363636363636363, 850000: 0.8818181818181818, 900000: 0.9555555555555556}\n"
     ]
    }
   ],
   "source": [
    "print(bin_qty)"
   ]
  },
  {
   "cell_type": "code",
   "execution_count": 50,
   "metadata": {},
   "outputs": [
    {
     "name": "stdout",
     "output_type": "stream",
     "text": [
      "{0: 0.012321614545149014, 50000: 0.012882945443479291, 100000: 0.01568172898093708, 150000: 0.017258501438762272, 200000: 0.019071050022282373, 250000: 0.0207789585430247, 300000: 0.022919293327347063, 350000: 0.02462499767080223, 400000: 0.02477316917233152, 450000: 0.02405600858400248, 500000: 0.031909287019613854, 550000: 0.030779921198581296, 600000: 0.03877157183567227, 650000: 0.03483027052842518, 700000: 0.03890153446603476, 750000: 0.0537480491512126, 800000: 0.06913487944027702, 850000: 0.06032878611624764, 900000: 0.04257665402264554}\n"
     ]
    }
   ],
   "source": [
    "print(PIF_CI)"
   ]
  },
  {
   "cell_type": "code",
   "execution_count": 51,
   "metadata": {},
   "outputs": [
    {
     "data": {
      "text/html": [
       "<div>\n",
       "<style scoped>\n",
       "    .dataframe tbody tr th:only-of-type {\n",
       "        vertical-align: middle;\n",
       "    }\n",
       "\n",
       "    .dataframe tbody tr th {\n",
       "        vertical-align: top;\n",
       "    }\n",
       "\n",
       "    .dataframe thead th {\n",
       "        text-align: right;\n",
       "    }\n",
       "</style>\n",
       "<table border=\"1\" class=\"dataframe\">\n",
       "  <thead>\n",
       "    <tr style=\"text-align: right;\">\n",
       "      <th></th>\n",
       "      <th>Loan</th>\n",
       "      <th>PIF_Rate</th>\n",
       "    </tr>\n",
       "  </thead>\n",
       "  <tbody>\n",
       "    <tr>\n",
       "      <th>0</th>\n",
       "      <td>0</td>\n",
       "      <td>0.754105</td>\n",
       "    </tr>\n",
       "    <tr>\n",
       "      <th>1</th>\n",
       "      <td>50000</td>\n",
       "      <td>0.783062</td>\n",
       "    </tr>\n",
       "    <tr>\n",
       "      <th>2</th>\n",
       "      <td>100000</td>\n",
       "      <td>0.808775</td>\n",
       "    </tr>\n",
       "    <tr>\n",
       "      <th>3</th>\n",
       "      <td>150000</td>\n",
       "      <td>0.867657</td>\n",
       "    </tr>\n",
       "    <tr>\n",
       "      <th>4</th>\n",
       "      <td>200000</td>\n",
       "      <td>0.866995</td>\n",
       "    </tr>\n",
       "  </tbody>\n",
       "</table>\n",
       "</div>"
      ],
      "text/plain": [
       "     Loan  PIF_Rate\n",
       "0       0  0.754105\n",
       "1   50000  0.783062\n",
       "2  100000  0.808775\n",
       "3  150000  0.867657\n",
       "4  200000  0.866995"
      ]
     },
     "execution_count": 51,
     "metadata": {},
     "output_type": "execute_result"
    }
   ],
   "source": [
    "# Subsequently convert the dictionary object into a DataFrame\n",
    "\n",
    "PIF_by_size = pd.DataFrame(bin_qty.items(), columns=['Loan', 'PIF_Rate'])\n",
    "PIF_by_size.head()"
   ]
  },
  {
   "cell_type": "code",
   "execution_count": 52,
   "metadata": {},
   "outputs": [],
   "source": [
    "PIF_by_size = pd.merge(PIF_by_size, pd.DataFrame(PIF_CI.items(), columns=['Loan', 'CI']), how='left', on='Loan')"
   ]
  },
  {
   "cell_type": "code",
   "execution_count": 53,
   "metadata": {},
   "outputs": [
    {
     "data": {
      "text/html": [
       "<div>\n",
       "<style scoped>\n",
       "    .dataframe tbody tr th:only-of-type {\n",
       "        vertical-align: middle;\n",
       "    }\n",
       "\n",
       "    .dataframe tbody tr th {\n",
       "        vertical-align: top;\n",
       "    }\n",
       "\n",
       "    .dataframe thead th {\n",
       "        text-align: right;\n",
       "    }\n",
       "</style>\n",
       "<table border=\"1\" class=\"dataframe\">\n",
       "  <thead>\n",
       "    <tr style=\"text-align: right;\">\n",
       "      <th></th>\n",
       "      <th>Loan</th>\n",
       "      <th>PIF_Rate</th>\n",
       "      <th>CI</th>\n",
       "      <th>LowerCI</th>\n",
       "      <th>UpperCI</th>\n",
       "    </tr>\n",
       "  </thead>\n",
       "  <tbody>\n",
       "    <tr>\n",
       "      <th>0</th>\n",
       "      <td>0</td>\n",
       "      <td>0.754105</td>\n",
       "      <td>0.012322</td>\n",
       "      <td>0.741784</td>\n",
       "      <td>0.766427</td>\n",
       "    </tr>\n",
       "    <tr>\n",
       "      <th>1</th>\n",
       "      <td>50000</td>\n",
       "      <td>0.783062</td>\n",
       "      <td>0.012883</td>\n",
       "      <td>0.770179</td>\n",
       "      <td>0.795945</td>\n",
       "    </tr>\n",
       "    <tr>\n",
       "      <th>2</th>\n",
       "      <td>100000</td>\n",
       "      <td>0.808775</td>\n",
       "      <td>0.015682</td>\n",
       "      <td>0.793093</td>\n",
       "      <td>0.824457</td>\n",
       "    </tr>\n",
       "    <tr>\n",
       "      <th>3</th>\n",
       "      <td>150000</td>\n",
       "      <td>0.867657</td>\n",
       "      <td>0.017259</td>\n",
       "      <td>0.850398</td>\n",
       "      <td>0.884915</td>\n",
       "    </tr>\n",
       "    <tr>\n",
       "      <th>4</th>\n",
       "      <td>200000</td>\n",
       "      <td>0.866995</td>\n",
       "      <td>0.019071</td>\n",
       "      <td>0.847924</td>\n",
       "      <td>0.886066</td>\n",
       "    </tr>\n",
       "  </tbody>\n",
       "</table>\n",
       "</div>"
      ],
      "text/plain": [
       "     Loan  PIF_Rate        CI   LowerCI   UpperCI\n",
       "0       0  0.754105  0.012322  0.741784  0.766427\n",
       "1   50000  0.783062  0.012883  0.770179  0.795945\n",
       "2  100000  0.808775  0.015682  0.793093  0.824457\n",
       "3  150000  0.867657  0.017259  0.850398  0.884915\n",
       "4  200000  0.866995  0.019071  0.847924  0.886066"
      ]
     },
     "execution_count": 53,
     "metadata": {},
     "output_type": "execute_result"
    }
   ],
   "source": [
    "PIF_by_size['LowerCI'] = PIF_by_size['PIF_Rate'] - PIF_by_size['CI']\n",
    "PIF_by_size['UpperCI'] = PIF_by_size['PIF_Rate'] + PIF_by_size['CI']\n",
    "PIF_by_size.head()"
   ]
  },
  {
   "cell_type": "markdown",
   "metadata": {},
   "source": [
    "We can see in the plot below that small loans seem to get paid back less than larger ones, no doubt this will be a useful insight in our model creation. There seems to be a dip in loan performance for loans about $800,000 in size, however this may be spurious given the relatively wide confidence interval band at this loan size (see plot below):"
   ]
  },
  {
   "cell_type": "code",
   "execution_count": 54,
   "metadata": {},
   "outputs": [
    {
     "data": {
      "image/png": "[encoded data removed]",
      "text/plain": [
       "<Figure size 432x288 with 1 Axes>"
      ]
     },
     "metadata": {
      "needs_background": "light"
     },
     "output_type": "display_data"
    }
   ],
   "source": [
    "plt.plot(PIF_by_size['Loan'], PIF_by_size['PIF_Rate'], linestyle='-', marker='o', markerfacecolor='black', linewidth = 2)\n",
    "plt.fill_between(PIF_by_size['Loan'],PIF_by_size['LowerCI'],PIF_by_size['UpperCI'], alpha=0.2)\n",
    "plt.axhline(y=0.82, c='r', ls='--')\n",
    "plt.annotate('Average', xy=(0, 0.83))\n",
    "plt.xlabel('Disbursed Amount in $')\n",
    "plt.ylabel('Fraction of Loans PIF')\n",
    "plt.title('PIF Loan Rate in Colorado vs. Disbursed Amount')\n",
    "plt.show()"
   ]
  },
  {
   "cell_type": "markdown",
   "metadata": {},
   "source": [
    "## EDA: How does PIF rate vary with loan term? ##\n",
    "The following section deals with getting the loan repayment rate as a function of the term of the loan, across the entire Colorado dataset. We'll do this using the \"Term\" column from the SBA loan dataset. "
   ]
  },
  {
   "cell_type": "code",
   "execution_count": 55,
   "metadata": {},
   "outputs": [
    {
     "name": "stdout",
     "output_type": "stream",
     "text": [
      "[0, 10, 20, 30, 40, 50, 60, 70, 80, 90, 100, 110, 120, 130, 140, 150, 160, 170, 180, 190, 200, 210, 220, 230, 240]\n"
     ]
    }
   ],
   "source": [
    "# We start by creating a list representing the bin limits for the loan term data.\n",
    "# For starters we will bins loans in increments of 10 months, from 0 to 240 months.\n",
    "\n",
    "binz = [10 * x for x in list(range(0,25))]\n",
    "print(binz)\n",
    "   "
   ]
  },
  {
   "cell_type": "code",
   "execution_count": 56,
   "metadata": {},
   "outputs": [],
   "source": [
    "# Create a dictionary object that, for each element in binz, stores an associated PIF rate:\n",
    "bin_qty = dict()\n",
    "PIF_CI = dict()\n",
    "\n",
    "for i in binz[0:-1]:\n",
    "    sub_df = df[(df['Term'] > i) & (df['Term'] <= (i+10))]\n",
    "    good_loans = sub_df['MIS_Status'].value_counts('P I F')[0]\n",
    "    PIF_CI[i] = 1.96*np.sqrt(good_loans*(1-good_loans)/len(sub_df))\n",
    "    bin_qty[i] = good_loans"
   ]
  },
  {
   "cell_type": "code",
   "execution_count": 57,
   "metadata": {},
   "outputs": [],
   "source": [
    "# Subsequently convert the dictionary object into a DataFrame. Merge it with CI dataframe\n",
    "# and create columns for upper and lower CI\n",
    "\n",
    "PIF_by_term = pd.DataFrame(bin_qty.items(), columns=['Term', 'PIF_Rate'])\n",
    "PIF_by_term = pd.merge(PIF_by_term, pd.DataFrame(PIF_CI.items(), columns=['Term', 'CI']), how='left', on='Term')\n",
    "PIF_by_term['LowerCI'] = PIF_by_term['PIF_Rate'] - PIF_by_term['CI']\n",
    "PIF_by_term['UpperCI'] = PIF_by_term['PIF_Rate'] + PIF_by_term['CI']"
   ]
  },
  {
   "cell_type": "markdown",
   "metadata": {},
   "source": [
    "We can see in the plot below that there doesn't seem to be a strong trend with loan term. That said, it's worth noting that all  loans below 60 months' term seem to preform consistently worse on average compared to longer term loans. "
   ]
  },
  {
   "cell_type": "code",
   "execution_count": 58,
   "metadata": {},
   "outputs": [
    {
     "data": {
      "image/png": "[encoded data removed]",
      "text/plain": [
       "<Figure size 432x288 with 1 Axes>"
      ]
     },
     "metadata": {
      "needs_background": "light"
     },
     "output_type": "display_data"
    }
   ],
   "source": [
    "plt.plot(PIF_by_term['Term'], PIF_by_term['PIF_Rate'], linestyle='-', marker='o', markerfacecolor='black')\n",
    "plt.fill_between(PIF_by_term['Term'],PIF_by_term['LowerCI'],PIF_by_term['UpperCI'], alpha=0.2)\n",
    "plt.axhline(y=0.82, c='r', ls='--')\n",
    "plt.annotate('Average', xy=(0, 0.83))\n",
    "plt.xlabel('Loan Term in Months')\n",
    "plt.ylabel('Fraction of Loans PIF')\n",
    "plt.title('PIF Loan Rate in Colorado vs. Loan Term')\n",
    "plt.show()"
   ]
  },
  {
   "cell_type": "markdown",
   "metadata": {},
   "source": [
    "## Data Exploration: PIF Rate By County ## \n",
    "We see large variations in PIF Rate by county, which on the surface seems like an enormously significant result. However, we also see large variations in sample size from one county ot the next; specifically, very small counties have very few loans associated with them.  \n",
    "To explore this further, we generate a **\"Funnel Plot\"** of the Loan PIF Rate by county as a function of how many loans are in each county:"
   ]
  },
  {
   "cell_type": "code",
   "execution_count": 59,
   "metadata": {},
   "outputs": [],
   "source": [
    "# Pull the relevant data into a separate dataframe\n",
    "\n",
    "spread = df[['TotalLoansInCounty', 'PIF_RateByCounty']].drop_duplicates().reset_index(drop=True).sort_values('TotalLoansInCounty')"
   ]
  },
  {
   "cell_type": "code",
   "execution_count": 60,
   "metadata": {},
   "outputs": [
    {
     "data": {
      "text/html": [
       "<div>\n",
       "<style scoped>\n",
       "    .dataframe tbody tr th:only-of-type {\n",
       "        vertical-align: middle;\n",
       "    }\n",
       "\n",
       "    .dataframe tbody tr th {\n",
       "        vertical-align: top;\n",
       "    }\n",
       "\n",
       "    .dataframe thead th {\n",
       "        text-align: right;\n",
       "    }\n",
       "</style>\n",
       "<table border=\"1\" class=\"dataframe\">\n",
       "  <thead>\n",
       "    <tr style=\"text-align: right;\">\n",
       "      <th></th>\n",
       "      <th>TotalLoansInCounty</th>\n",
       "      <th>PIF_RateByCounty</th>\n",
       "      <th>GoodLoans</th>\n",
       "    </tr>\n",
       "  </thead>\n",
       "  <tbody>\n",
       "    <tr>\n",
       "      <th>51</th>\n",
       "      <td>1</td>\n",
       "      <td>1</td>\n",
       "      <td>1</td>\n",
       "    </tr>\n",
       "    <tr>\n",
       "      <th>59</th>\n",
       "      <td>2</td>\n",
       "      <td>0.5</td>\n",
       "      <td>1</td>\n",
       "    </tr>\n",
       "    <tr>\n",
       "      <th>58</th>\n",
       "      <td>4</td>\n",
       "      <td>1</td>\n",
       "      <td>4</td>\n",
       "    </tr>\n",
       "    <tr>\n",
       "      <th>53</th>\n",
       "      <td>5</td>\n",
       "      <td>0.8</td>\n",
       "      <td>4</td>\n",
       "    </tr>\n",
       "    <tr>\n",
       "      <th>56</th>\n",
       "      <td>6</td>\n",
       "      <td>1</td>\n",
       "      <td>6</td>\n",
       "    </tr>\n",
       "  </tbody>\n",
       "</table>\n",
       "</div>"
      ],
      "text/plain": [
       "   TotalLoansInCounty PIF_RateByCounty GoodLoans\n",
       "51                  1                1         1\n",
       "59                  2              0.5         1\n",
       "58                  4                1         4\n",
       "53                  5              0.8         4\n",
       "56                  6                1         6"
      ]
     },
     "execution_count": 60,
     "metadata": {},
     "output_type": "execute_result"
    }
   ],
   "source": [
    "spread['GoodLoans'] = spread['TotalLoansInCounty'] * spread['PIF_RateByCounty']\n",
    "\n",
    "mean_y = spread['GoodLoans'].sum() / spread['TotalLoansInCounty'].sum()\n",
    "\n",
    "spread.head()"
   ]
  },
  {
   "cell_type": "code",
   "execution_count": 61,
   "metadata": {},
   "outputs": [
    {
     "name": "stdout",
     "output_type": "stream",
     "text": [
      "<class 'pandas.core.frame.DataFrame'>\n",
      "Int64Index: 60 entries, 51 to 5\n",
      "Data columns (total 3 columns):\n",
      " #   Column              Non-Null Count  Dtype  \n",
      "---  ------              --------------  -----  \n",
      " 0   TotalLoansInCounty  60 non-null     int64  \n",
      " 1   PIF_RateByCounty    60 non-null     float64\n",
      " 2   GoodLoans           60 non-null     float64\n",
      "dtypes: float64(2), int64(1)\n",
      "memory usage: 1.9 KB\n"
     ]
    }
   ],
   "source": [
    "spread['GoodLoans'] = pd.to_numeric(spread['GoodLoans'] )\n",
    "spread['TotalLoansInCounty'] = pd.to_numeric(spread['TotalLoansInCounty'] )\n",
    "spread['PIF_RateByCounty'] = pd.to_numeric(spread['PIF_RateByCounty'] )\n",
    "spread.info()"
   ]
  },
  {
   "cell_type": "code",
   "execution_count": 62,
   "metadata": {},
   "outputs": [],
   "source": [
    "spread['LowerCI'] = mean_y - 1.96*np.sqrt(mean_y*(1-mean_y)/spread['TotalLoansInCounty'])\n",
    "spread['UpperCI'] = mean_y + 1.96*np.sqrt(mean_y*(1-mean_y)/spread['TotalLoansInCounty'])\n"
   ]
  },
  {
   "cell_type": "markdown",
   "metadata": {},
   "source": [
    "The resulting funnel plot, with a 95% confidence interval shaded, suggests that while some of the variability we see in PIF rate by county may be due to variance inherent in low sample size, there are some counties that seem to deviate significantly from the variance predicted by the funnel plot:"
   ]
  },
  {
   "cell_type": "code",
   "execution_count": 63,
   "metadata": {},
   "outputs": [
    {
     "data": {
      "image/png": "[encoded data removed]",
      "text/plain": [
       "<Figure size 432x288 with 1 Axes>"
      ]
     },
     "metadata": {
      "needs_background": "light"
     },
     "output_type": "display_data"
    }
   ],
   "source": [
    "plt.scatter(spread['TotalLoansInCounty'], spread['PIF_RateByCounty'])\n",
    "plt.fill_between(spread['TotalLoansInCounty'], spread['LowerCI'], spread['UpperCI'], color='blue',alpha=0.2)\n",
    "plt.axhline(mean_y, xmin=0, xmax=4000, linestyle = '--', c='r')\n",
    "plt.title('Funnel Plot of PIF Rate by Number of Loans')\n",
    "plt.xlabel('Total Number of Loans in County')\n",
    "plt.ylabel('Rate of Loan Repayment')\n",
    "plt.ylim([0.4, 1.2])\n",
    "plt.show()"
   ]
  },
  {
   "cell_type": "markdown",
   "metadata": {},
   "source": [
    "With much of the data wrangled and explored, we export a new csv file representing the work done so far:"
   ]
  },
  {
   "cell_type": "code",
   "execution_count": 64,
   "metadata": {},
   "outputs": [],
   "source": [
    "# Write the resulting DataFrame to csv for storage for later use. \n",
    "\n",
    "file_name = 'data\\\\SBA_Model_Input.csv'\n",
    "df.to_csv(file_name, encoding='utf-8', index=False)"
   ]
  },
  {
   "cell_type": "code",
   "execution_count": null,
   "metadata": {},
   "outputs": [],
   "source": []
  },
  {
   "cell_type": "code",
   "execution_count": null,
   "metadata": {},
   "outputs": [],
   "source": []
  }
 ],
 "metadata": {
  "kernelspec": {
   "display_name": "Python 3",
   "language": "python",
   "name": "python3"
  },
  "language_info": {
   "codemirror_mode": {
    "name": "ipython",
    "version": 3
   },
   "file_extension": ".py",
   "mimetype": "text/x-python",
   "name": "python",
   "nbconvert_exporter": "python",
   "pygments_lexer": "ipython3",
   "version": "3.7.6"
  }
 },
 "nbformat": 4,
 "nbformat_minor": 4
}
